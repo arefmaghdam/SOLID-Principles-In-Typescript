{
 "cells": [
  {
   "cell_type": "markdown",
   "id": "02c242f2-0ef2-4c59-a680-04b5649ca393",
   "metadata": {},
   "source": [
    "# SOLID"
   ]
  },
  {
   "cell_type": "markdown",
   "id": "0e89e13f-409b-46c3-a6a3-f477d6a3bdaf",
   "metadata": {},
   "source": [
    "<hr />"
   ]
  },
  {
   "cell_type": "markdown",
   "id": "cb0aafa1-2f35-46a6-b632-a6144c43e49c",
   "metadata": {},
   "source": [
    "## Single Responsibility Principle (SRP)"
   ]
  },
  {
   "cell_type": "markdown",
   "id": "889994aa-cdae-4ec8-afa6-6111c3a9708f",
   "metadata": {},
   "source": [
    "One reason to change"
   ]
  },
  {
   "cell_type": "markdown",
   "id": "00caa7f4-5aa5-41cc-a6b6-2fc92546e85c",
   "metadata": {},
   "source": [
    "One responsibility"
   ]
  },
  {
   "cell_type": "markdown",
   "id": "434ba5f7-230f-4518-9f64-0d8e187184c8",
   "metadata": {},
   "source": [
    "#### <span style=\"color:red\">Without SRP</span>"
   ]
  },
  {
   "cell_type": "code",
   "execution_count": 33,
   "id": "70bb3a44-266d-49f9-ac53-422bc1c3c1db",
   "metadata": {},
   "outputs": [],
   "source": [
    "interface User {\n",
    "    name: string;\n",
    "}"
   ]
  },
  {
   "cell_type": "code",
   "execution_count": 34,
   "id": "70b2ebe1-e8ea-45d4-a23c-cf2723af9510",
   "metadata": {},
   "outputs": [],
   "source": [
    "class UserService {\n",
    "    saveUser(user: User): void {\n",
    "        // Save user to the database\n",
    "\n",
    "        this.sendEmail(user, \"User created\");\n",
    "    }\n",
    "\n",
    "    sendEmail(user: User, message: string): void {\n",
    "        // Send email to the user\n",
    "    }\n",
    "}"
   ]
  },
  {
   "cell_type": "markdown",
   "id": "e7644985-f5dd-403e-ab68-9db29500de19",
   "metadata": {},
   "source": [
    "#### <span style=\"color:green\">With SRP</span>"
   ]
  },
  {
   "cell_type": "code",
   "execution_count": 35,
   "id": "89d1b5f2-d597-4039-ac92-91c6e1dc382b",
   "metadata": {},
   "outputs": [],
   "source": [
    "class UserService {\n",
    "    saveUser(user: User): void {\n",
    "        // Save user to the database\n",
    "    }\n",
    "}"
   ]
  },
  {
   "cell_type": "code",
   "execution_count": 36,
   "id": "2d6d7fa6-eb85-412e-a598-f9bcbed0f03c",
   "metadata": {},
   "outputs": [],
   "source": [
    "class EmailService {\n",
    "    sendEmail(user: User, message: string): void {\n",
    "        // Send email to the user\n",
    "    }\n",
    "}"
   ]
  },
  {
   "cell_type": "markdown",
   "id": "254dd39b-4d12-4ea6-a51b-b833594571d8",
   "metadata": {},
   "source": [
    "### Example"
   ]
  },
  {
   "cell_type": "code",
   "execution_count": 37,
   "id": "a3ff3900-3090-4714-86a6-7aaca7e900d6",
   "metadata": {},
   "outputs": [],
   "source": [
    "class EmailService {\n",
    "    sendEmail(user: User, message: string): void {\n",
    "        console.log(`An email sent to ${user.name}, message: ${message}`);\n",
    "    }\n",
    "}\n",
    "\n",
    "class UserService {\n",
    "    private emailService: EmailService;\n",
    "    \n",
    "    constructor(emailService: EmailService) {\n",
    "        this.emailService = emailService;\n",
    "    }\n",
    "\n",
    "    saveUser(user: User): void {\n",
    "        console.log(`A new user created, name: ${user.name}`);\n",
    "        this.emailService.sendEmail(user, \"Welcome to the system!\");\n",
    "    }\n",
    "}"
   ]
  },
  {
   "cell_type": "code",
   "execution_count": 38,
   "id": "9b94e290-3f94-430a-9f40-d070e41ec5a6",
   "metadata": {},
   "outputs": [
    {
     "name": "stdout",
     "output_type": "stream",
     "text": [
      "A new user created, name: Saeed\n",
      "An email sent to Saeed, message: Welcome to the system!\n"
     ]
    }
   ],
   "source": [
    "// Initialize (should be done by IoC)\n",
    "const emailService = new EmailService();\n",
    "const userService = new UserService(emailService);\n",
    "\n",
    "// Run\n",
    "const user: User = { name: 'Saeed' }\n",
    "userService.saveUser(user);"
   ]
  },
  {
   "cell_type": "markdown",
   "id": "a94fc524-e603-4411-b2c7-2757730daa2d",
   "metadata": {},
   "source": [
    "<hr/>"
   ]
  },
  {
   "cell_type": "markdown",
   "id": "a6b0ad8e-8158-4e5d-9828-f66d46212dbe",
   "metadata": {},
   "source": [
    "## Open/Closed Principle (OCP)"
   ]
  },
  {
   "cell_type": "markdown",
   "id": "d1481cc3-a3b4-44c3-beb5-7a562e3f65df",
   "metadata": {},
   "source": [
    "Software entities (classes, modules, functions, etc.) should be open for extension but closed for modification."
   ]
  },
  {
   "cell_type": "markdown",
   "id": "7a041f7b-2d7b-4ec4-9828-41ef66ef9709",
   "metadata": {},
   "source": [
    "#### <span style=\"color:red\">Without OCP</span>"
   ]
  },
  {
   "cell_type": "markdown",
   "id": "c0f66f0c-0fcd-41ec-8312-a48a4b935437",
   "metadata": {},
   "source": [
    "Let's assume we have the following class to calculate area:"
   ]
  },
  {
   "cell_type": "code",
   "execution_count": 39,
   "id": "6b4bf8ea-0079-4e6e-8b3a-c498ff6330d6",
   "metadata": {},
   "outputs": [],
   "source": [
    "interface Rectangle {\n",
    "    width: number;\n",
    "    height: number;\n",
    "}\n",
    "\n",
    "class AreaCalculator {\n",
    "    calculate(rectangle: Rectangle): void {\n",
    "        console.log(rectangle.width * rectangle.height);\n",
    "    }\n",
    "}"
   ]
  },
  {
   "cell_type": "code",
   "execution_count": 40,
   "id": "accee7a5-fdcf-46f6-896b-e6fbe89737ed",
   "metadata": {},
   "outputs": [
    {
     "name": "stdout",
     "output_type": "stream",
     "text": [
      "16\n"
     ]
    }
   ],
   "source": [
    "// Initialize\n",
    "const areaCalculator = new AreaCalculator();\n",
    "\n",
    "// Run\n",
    "const rectangle: Rectangle = {\n",
    "    width: 2,\n",
    "    height: 8\n",
    "}\n",
    "\n",
    "areaCalculator.calculate(rectangle);"
   ]
  },
  {
   "cell_type": "markdown",
   "id": "a3509741-7482-447b-a788-301e59410a0e",
   "metadata": {},
   "source": [
    "Now, let's add square, the change would be like following:"
   ]
  },
  {
   "cell_type": "code",
   "execution_count": 41,
   "id": "d0ee1403-2205-445f-9e84-44d074b89d62",
   "metadata": {},
   "outputs": [],
   "source": [
    "interface Square {\n",
    "    sideLength: number;\n",
    "}\n",
    "\n",
    "class AreaCalculator {\n",
    "    calculateRectangle(rectangle: Rectangle): void {\n",
    "        console.log(rectangle.width * rectangle.height);\n",
    "    }\n",
    "\n",
    "    calculateSquare(square: Square): void {\n",
    "        console.log(square.sideLength * square.sideLength);\n",
    "    }\n",
    "}"
   ]
  },
  {
   "cell_type": "code",
   "execution_count": 42,
   "id": "181fd4ca-62b5-499c-90c3-9866afc45a06",
   "metadata": {},
   "outputs": [
    {
     "name": "stdout",
     "output_type": "stream",
     "text": [
      "16\n",
      "4\n"
     ]
    }
   ],
   "source": [
    "// Initialize\n",
    "const areaCalculator = new AreaCalculator();\n",
    "\n",
    "// Run\n",
    "const rectangle: Rectangle = {\n",
    "    width: 2,\n",
    "    height: 8\n",
    "}\n",
    "const square: Square = {\n",
    "    sideLength: 2\n",
    "}\n",
    "\n",
    "areaCalculator.calculateRectangle(rectangle);\n",
    "areaCalculator.calculateSquare(square);"
   ]
  },
  {
   "cell_type": "markdown",
   "id": "1b647b65-e429-4507-bc55-5953e24a2d0e",
   "metadata": {},
   "source": [
    "What would you do if you need to circule to the shapes?"
   ]
  },
  {
   "cell_type": "code",
   "execution_count": 43,
   "id": "830d50dd-7390-42ef-a698-f2116a0857a4",
   "metadata": {},
   "outputs": [],
   "source": [
    "interface Circle {\n",
    "    radius: number;\n",
    "}\n",
    "\n",
    "class AreaCalculator {\n",
    "    calculateRectangle(rectangle: Rectangle): void {\n",
    "        console.log(rectangle.width * rectangle.height);\n",
    "    }\n",
    "\n",
    "    calculateSquare(square: Square): void {\n",
    "        console.log(square.sideLength * square.sideLength);\n",
    "    }\n",
    "\n",
    "    calculateCircle(circle: Circle): void {\n",
    "        console.log(circle.radius * circle.radius * 3.14);\n",
    "    }\n",
    "}"
   ]
  },
  {
   "cell_type": "code",
   "execution_count": 44,
   "id": "bc54a54c-01a5-423f-86b8-3c7feb57a60e",
   "metadata": {},
   "outputs": [
    {
     "name": "stdout",
     "output_type": "stream",
     "text": [
      "16\n",
      "4\n",
      "12.56\n"
     ]
    }
   ],
   "source": [
    "// Initialize\n",
    "const areaCalculator = new AreaCalculator();\n",
    "\n",
    "// Run\n",
    "const rectangle: Rectangle = {\n",
    "    width: 2,\n",
    "    height: 8\n",
    "}\n",
    "const square: Square = {\n",
    "    sideLength: 2\n",
    "}\n",
    "\n",
    "const circle: Circle = {\n",
    "    radius: 2\n",
    "}\n",
    "\n",
    "areaCalculator.calculateRectangle(rectangle);\n",
    "areaCalculator.calculateSquare(square);\n",
    "areaCalculator.calculateCircle(circle);"
   ]
  },
  {
   "cell_type": "markdown",
   "id": "16018187-267a-4514-b1e6-fee3a50cff4c",
   "metadata": {},
   "source": [
    "#### <span style=\"color:green\">With OCP</span>"
   ]
  },
  {
   "cell_type": "code",
   "execution_count": 45,
   "id": "57db81a2-9013-4c10-8f67-960f65a6fe4b",
   "metadata": {},
   "outputs": [],
   "source": [
    "interface Shape {\n",
    "    calculate(): void;\n",
    "}\n",
    "\n",
    "class Rectangle implements Shape {\n",
    "    private width: number;\n",
    "    private height: number;\n",
    "\n",
    "    constructor(width: number, height: number) {\n",
    "        this.width = width;\n",
    "        this.height = height;\n",
    "    }\n",
    "\n",
    "    calculate(): void {\n",
    "        console.log(this.width * this.height);\n",
    "    }\n",
    "}\n",
    "\n",
    "class AreaCalculator {\n",
    "    calculate(shape: Shape): void {\n",
    "        shape.calculate();\n",
    "    }\n",
    "}"
   ]
  },
  {
   "cell_type": "code",
   "execution_count": 46,
   "id": "fa209620-3338-410c-967f-fd82432c436d",
   "metadata": {},
   "outputs": [
    {
     "name": "stdout",
     "output_type": "stream",
     "text": [
      "16\n"
     ]
    }
   ],
   "source": [
    "// Initialize\n",
    "const areaCalculator = new AreaCalculator();\n",
    "\n",
    "// Run\n",
    "const rectangle = new Rectangle(2, 8);\n",
    "areaCalculator.calculate(rectangle);"
   ]
  },
  {
   "cell_type": "markdown",
   "id": "1b31a181-1e68-46b0-b717-7f513066e172",
   "metadata": {},
   "source": [
    "Now let's add square to the shapes"
   ]
  },
  {
   "cell_type": "code",
   "execution_count": 47,
   "id": "2a5e9192-437c-43d1-98fd-6f0cfd46a764",
   "metadata": {},
   "outputs": [],
   "source": [
    "class Square implements Shape {\n",
    "    private sideLength: number;\n",
    "\n",
    "    constructor(sideLength: number) {\n",
    "        this.sideLength = sideLength;\n",
    "    }\n",
    "\n",
    "    calculate(): void {\n",
    "        console.log(this.sideLength * this.sideLength);\n",
    "    }\n",
    "}"
   ]
  },
  {
   "cell_type": "code",
   "execution_count": 48,
   "id": "094a9a6c-d330-4d16-a1ff-86375616d0ae",
   "metadata": {},
   "outputs": [
    {
     "name": "stdout",
     "output_type": "stream",
     "text": [
      "4\n"
     ]
    }
   ],
   "source": [
    "const square = new Square(2);\n",
    "areaCalculator.calculate(square);"
   ]
  },
  {
   "cell_type": "markdown",
   "id": "e37f5b6d-91b7-4b0c-979f-2bb098e39fbe",
   "metadata": {},
   "source": [
    "Now let's add circule to the shapes:"
   ]
  },
  {
   "cell_type": "code",
   "execution_count": 49,
   "id": "30c899b6-6a5d-4a0b-9a66-6fb39d3cbb34",
   "metadata": {},
   "outputs": [],
   "source": [
    "class Circle implements Shape {\n",
    "    private radius: number;\n",
    "\n",
    "    constructor(radius: number) {\n",
    "        this.radius = radius\n",
    "    }\n",
    "\n",
    "    calculate(): void {\n",
    "        console.log(this.radius * this.radius * 3.14)\n",
    "    }\n",
    "}"
   ]
  },
  {
   "cell_type": "code",
   "execution_count": 50,
   "id": "dc694c9e-5861-4f9f-a37d-4c58f8685f73",
   "metadata": {},
   "outputs": [
    {
     "name": "stdout",
     "output_type": "stream",
     "text": [
      "12.56\n"
     ]
    }
   ],
   "source": [
    "const circle = new Circle(2);\n",
    "areaCalculator.calculate(circle);"
   ]
  },
  {
   "cell_type": "markdown",
   "id": "dd46ccc4-bcf8-40bc-8b5e-d9efc8a17b30",
   "metadata": {},
   "source": [
    "<hr />"
   ]
  },
  {
   "cell_type": "markdown",
   "id": "00760622-d589-4d18-9088-7aad01ca6ecc",
   "metadata": {},
   "source": [
    "## Liskov Substitution Principle (LSP)"
   ]
  },
  {
   "cell_type": "markdown",
   "id": "292a5f6a-656c-4e47-bcaa-526054619958",
   "metadata": {},
   "source": [
    "Subtypes must be substitutable for their base types without altering the correctness of the program."
   ]
  },
  {
   "cell_type": "markdown",
   "id": "6d912611-782f-40dc-98aa-2e040a1258f9",
   "metadata": {},
   "source": [
    "#### <span style=\"color:red\">Without LSP</span>"
   ]
  },
  {
   "cell_type": "code",
   "execution_count": 51,
   "id": "43ac56f3-0e6c-4073-ba14-3a89abac1dec",
   "metadata": {},
   "outputs": [],
   "source": [
    "interface Bird {\n",
    "    fly(): void;\n",
    "}\n",
    "\n",
    "class Sparrow  implements Bird {\n",
    "    fly(): void {\n",
    "        console.log(\"Sparrow flies\");\n",
    "    }\n",
    "}\n",
    "\n",
    "class Penguin implements Bird {\n",
    "    fly(): void {\n",
    "        throw new Error(\"Penguin can't fly\")\n",
    "    }\n",
    "}"
   ]
  },
  {
   "cell_type": "code",
   "execution_count": 53,
   "id": "44cfefe9-af4b-4cea-aaf0-7f8d4faa67cc",
   "metadata": {},
   "outputs": [
    {
     "name": "stdout",
     "output_type": "stream",
     "text": [
      "Sparrow flies\n",
      "Sparrow flies\n"
     ]
    },
    {
     "name": "stderr",
     "output_type": "stream",
     "text": [
      "evalmachine.<anonymous>:11\n",
      "        throw new Error(\"Penguin can't fly\");\n",
      "        ^\n",
      "\n",
      "Error: Penguin can't fly\n",
      "    at Penguin.fly (evalmachine.<anonymous>:11:15)\n",
      "    at evalmachine.<anonymous>:16:28\n",
      "    at Array.forEach (<anonymous>)\n",
      "    at evalmachine.<anonymous>:16:7\n",
      "    at evalmachine.<anonymous>:18:3\n",
      "    at sigintHandlersWrap (node:vm:259:12)\n",
      "    at Script.runInThisContext (node:vm:120:14)\n",
      "    at Object.runInThisContext (node:vm:296:38)\n",
      "    at Object.execute (/opt/conda/lib/node_modules/tslab/dist/executor.js:160:38)\n",
      "    at JupyterHandlerImpl.handleExecuteImpl (/opt/conda/lib/node_modules/tslab/dist/jupyter.js:223:38)\n"
     ]
    }
   ],
   "source": [
    "// Initialize\n",
    "const sparrow1 = new Sparrow();\n",
    "const sparrow2 = new Sparrow();\n",
    "const penguin = new Penguin();\n",
    "const sparrow3 = new Sparrow();\n",
    "\n",
    "const birds: Bird[] = [ sparrow1, sparrow2, penguin, sparrow3 ];\n",
    "\n",
    "// Run\n",
    "birds.forEach(bird => bird.fly());"
   ]
  },
  {
   "cell_type": "markdown",
   "id": "58f4ab43-ce21-4c30-9a80-ee09d7774ced",
   "metadata": {},
   "source": [
    "#### <span style=\"color:green\">With LSP</span>"
   ]
  },
  {
   "cell_type": "code",
   "execution_count": 54,
   "id": "47b6ffe8-f119-4e7f-957e-01e848ced7af",
   "metadata": {},
   "outputs": [],
   "source": [
    "interface Bird { }\n",
    "\n",
    "interface FlyingBird extends Bird {\n",
    "    fly(): void;\n",
    "}\n",
    "\n",
    "class Sparrow implements FlyingBird {\n",
    "    fly(): void {\n",
    "        console.log(\"Sparrow flies\");\n",
    "    }\n",
    "}\n",
    "\n",
    "class Penguin implements Bird { }"
   ]
  },
  {
   "cell_type": "code",
   "execution_count": 55,
   "id": "a7fd9ff1-6b14-472f-895f-a4a5e31e75b2",
   "metadata": {},
   "outputs": [
    {
     "name": "stderr",
     "output_type": "stream",
     "text": [
      "10:28 - Property 'fly' does not exist on type 'Bird'.\n"
     ]
    }
   ],
   "source": [
    "// Initialize\n",
    "const sparrow1 = new Sparrow();\n",
    "const sparrow2 = new Sparrow();\n",
    "const penguin = new Penguin();\n",
    "const sparrow3 = new Sparrow();\n",
    "\n",
    "const birds: Bird[] = [ sparrow1, sparrow2, penguin, sparrow3 ];\n",
    "\n",
    "// Run\n",
    "birds.forEach(bird => bird.fly());"
   ]
  },
  {
   "cell_type": "code",
   "execution_count": 56,
   "id": "306e2867-ccc4-484a-8230-bc626d0ac208",
   "metadata": {},
   "outputs": [
    {
     "name": "stderr",
     "output_type": "stream",
     "text": [
      "7:51 - Property 'fly' is missing in type 'Penguin' but required in type 'FlyingBird'.\n"
     ]
    }
   ],
   "source": [
    "// Initialize\n",
    "const sparrow1 = new Sparrow();\n",
    "const sparrow2 = new Sparrow();\n",
    "const penguin = new Penguin();\n",
    "const sparrow3 = new Sparrow();\n",
    "\n",
    "const birds: FlyingBird[] = [ sparrow1, sparrow2, penguin, sparrow3 ];\n",
    "\n",
    "// Run\n",
    "birds.forEach(bird => bird.fly());"
   ]
  },
  {
   "cell_type": "code",
   "execution_count": 57,
   "id": "157c4ad9-8232-4af1-8476-dd80a82113c0",
   "metadata": {},
   "outputs": [
    {
     "name": "stdout",
     "output_type": "stream",
     "text": [
      "Sparrow flies\n",
      "Sparrow flies\n",
      "Sparrow flies\n"
     ]
    }
   ],
   "source": [
    "// Initialize\n",
    "const sparrow1 = new Sparrow();\n",
    "const sparrow2 = new Sparrow();\n",
    "const sparrow3 = new Sparrow();\n",
    "\n",
    "const birds: FlyingBird[] = [ sparrow1, sparrow2, sparrow3 ];\n",
    "\n",
    "// Run\n",
    "birds.forEach(bird => bird.fly());"
   ]
  },
  {
   "cell_type": "markdown",
   "id": "624dced9-424f-4187-ab24-6745a4250624",
   "metadata": {},
   "source": [
    "<hr />"
   ]
  },
  {
   "cell_type": "markdown",
   "id": "e0c877b6-15b7-4c93-b374-bb501377f7f7",
   "metadata": {},
   "source": [
    "## Interface Segregation Principle"
   ]
  },
  {
   "cell_type": "markdown",
   "id": "71e884c8-379d-495f-bd80-9526cefb2c28",
   "metadata": {},
   "source": [
    "A class should not be forced to implement interfaces it does not use."
   ]
  },
  {
   "cell_type": "markdown",
   "id": "117b7ea4-ff10-495f-8a0b-227359bc7090",
   "metadata": {},
   "source": [
    "#### <span style=\"color:red\">Without ISP</span>"
   ]
  },
  {
   "cell_type": "code",
   "execution_count": 61,
   "id": "291f5bb8-2715-4f95-a4fc-df4744ae53dc",
   "metadata": {},
   "outputs": [],
   "source": [
    "interface IUserService {\n",
    "    saveUser(): void;\n",
    "    getLatestUsers(): User[];\n",
    "    getLastUser(): User;\n",
    "    getTodaysUsers(): User[];\n",
    "}\n",
    "\n",
    "class UserManagerService implements IUserService {\n",
    "    saveUser(): void { }\n",
    "    getLatestUsers(): User[] { throw new Error(\"Method not implemented\"); }\n",
    "    getLastUser(): User { throw new Error(\"Method not implemented\"); }\n",
    "    getTodaysUsers(): User[] { throw new Error(\"Method not implemented\"); }\n",
    "}\n",
    "\n",
    "class UserReportService implements IUserService {\n",
    "    saveUser(): void { throw new Error(\"Method not implemented\"); }\n",
    "    getLatestUsers(): User[] { return null; }\n",
    "    getLastUser(): User { return null; }\n",
    "    getTodaysUsers(): User[] { return null; }\n",
    "}"
   ]
  },
  {
   "cell_type": "markdown",
   "id": "b64be801-4ace-423f-b43d-e396e6a0dba7",
   "metadata": {},
   "source": [
    "#### <span style=\"color:green\">With ISP</span>"
   ]
  },
  {
   "cell_type": "code",
   "execution_count": 62,
   "id": "902d5730-dc9a-451e-9972-35f39ca55c1e",
   "metadata": {},
   "outputs": [],
   "source": [
    "interface IUserManagerService {\n",
    "    saveUser(): void;\n",
    "}\n",
    "\n",
    "interface IUserReportService {\n",
    "    getLatestUsers(): User[];\n",
    "    getLastUser(): User;\n",
    "    getTodaysUsers(): User[];\n",
    "}\n",
    "\n",
    "class UserManagerService implements IUserManagerService {\n",
    "    saveUser(): void { }\n",
    "}\n",
    "\n",
    "class UserReportService implements IUserReportService {\n",
    "    getLatestUsers(): User[] { return null; }\n",
    "    getLastUser(): User { return null; }\n",
    "    getTodaysUsers(): User[] { return null; }\n",
    "}"
   ]
  },
  {
   "cell_type": "markdown",
   "id": "11ed1041-e414-4928-bf03-f70bc273160e",
   "metadata": {},
   "source": [
    "## Dependency Inversion Principle"
   ]
  },
  {
   "cell_type": "markdown",
   "id": "75808ebd-279c-4836-a22a-6f1bf666db51",
   "metadata": {},
   "source": [
    "High-level modules should not depend on low-level modules. Both should depend on abstractions."
   ]
  },
  {
   "cell_type": "markdown",
   "id": "f1123841-83b8-4bb9-854c-24aea1db42b0",
   "metadata": {},
   "source": [
    "Abstractions should not depend on details; details should depend on abstractions."
   ]
  },
  {
   "cell_type": "markdown",
   "id": "0dac1597-5223-48fb-80d1-6ec5cfd31935",
   "metadata": {},
   "source": [
    "#### <span style=\"color:red\">Without DIP</span>"
   ]
  },
  {
   "cell_type": "code",
   "execution_count": 65,
   "id": "02ed5404-6b81-4413-829e-00acd58b8543",
   "metadata": {},
   "outputs": [],
   "source": [
    "class EmailService {\n",
    "    send(message: string): void {\n",
    "        console.log(`Email sent, ${message}`);\n",
    "    }\n",
    "}\n",
    "\n",
    "class UserService {\n",
    "    private emailService: EmailService;\n",
    "\n",
    "    constructor() {\n",
    "        this.emailService = new EmailService();\n",
    "    }\n",
    "    \n",
    "    save(user: User): void {\n",
    "        console.log(`User created, name: ${user.name}`);\n",
    "        this.emailService.send(`Congradulations ${user.name}`);\n",
    "    }\n",
    "}"
   ]
  },
  {
   "cell_type": "code",
   "execution_count": 67,
   "id": "0c5208f4-71c5-4b98-b711-f664dacd8c77",
   "metadata": {},
   "outputs": [
    {
     "name": "stdout",
     "output_type": "stream",
     "text": [
      "User created, name: Aref\n",
      "Email sent, Congradulations Aref\n"
     ]
    }
   ],
   "source": [
    "// Initialize\n",
    "const userService = new UserService();\n",
    "\n",
    "// Run\n",
    "const user: User = { name: 'Aref' };\n",
    "userService.save(user);"
   ]
  },
  {
   "cell_type": "markdown",
   "id": "3339ba14-283c-43c4-8946-d0a8e89f69f1",
   "metadata": {},
   "source": [
    "Given we want to change from email to notification, what would be the solution?"
   ]
  },
  {
   "cell_type": "code",
   "execution_count": 69,
   "id": "74ac7fa8-89f6-4a47-bb0b-3b16721019b5",
   "metadata": {},
   "outputs": [],
   "source": [
    "class NotificationService {\n",
    "    send(message: string): void {\n",
    "        console.log(`Notification sent, ${message}`);\n",
    "    }\n",
    "}\n",
    "\n",
    "class UserService {\n",
    "    private notificationService: NotificationService;\n",
    "\n",
    "    constructor() {\n",
    "        this.notificationService = new NotificationService();\n",
    "    }\n",
    "    \n",
    "    save(user: User): void {\n",
    "        console.log(`User created, name: ${user.name}`);\n",
    "        this.notificationService.send(`Congradulations ${user.name}`);\n",
    "    }\n",
    "}"
   ]
  },
  {
   "cell_type": "code",
   "execution_count": 70,
   "id": "f93566b8-9723-4384-bc5c-9dfa17f3ccef",
   "metadata": {},
   "outputs": [
    {
     "name": "stdout",
     "output_type": "stream",
     "text": [
      "User created, name: Aref\n",
      "Notification sent, Congradulations Aref\n"
     ]
    }
   ],
   "source": [
    "// Initialize\n",
    "const userService = new UserService();\n",
    "\n",
    "// Run\n",
    "const user: User = { name: 'Aref' };\n",
    "userService.save(user);"
   ]
  },
  {
   "cell_type": "markdown",
   "id": "1c67a444-ce11-477f-9f15-730a709eac8d",
   "metadata": {},
   "source": [
    "#### <span style=\"color:green\">With DIP</span>"
   ]
  },
  {
   "cell_type": "code",
   "execution_count": 73,
   "id": "bc583e6d-9a7d-41a2-9103-f8140886b579",
   "metadata": {},
   "outputs": [],
   "source": [
    "interface INotify {\n",
    "    send(message: string): void;\n",
    "}\n",
    "\n",
    "class EmailService implements INotify {\n",
    "    send(message: string): void {\n",
    "        console.log(`Email sent, ${message}`);\n",
    "    }\n",
    "}\n",
    "\n",
    "class UserService {\n",
    "    private notificationService: INotify;\n",
    "\n",
    "    constructor(notificationService: INotify) {\n",
    "        this.notificationService = notificationService;\n",
    "    }\n",
    "    \n",
    "    save(user: User): void {\n",
    "        console.log(`User created, name: ${user.name}`);\n",
    "        this.notificationService.send(`Congradulations ${user.name}`);\n",
    "    }\n",
    "}"
   ]
  },
  {
   "cell_type": "code",
   "execution_count": 75,
   "id": "3d03a9b1-41e1-46ea-86bb-edf7d69c8f5c",
   "metadata": {},
   "outputs": [
    {
     "name": "stdout",
     "output_type": "stream",
     "text": [
      "User created, name: Aref\n",
      "Email sent, Congradulations Aref\n"
     ]
    }
   ],
   "source": [
    "// Initialize\n",
    "const emailService = new EmailService;\n",
    "const userService = new UserService(emailService);\n",
    "\n",
    "// Run\n",
    "const user: User = { name: 'Aref' };\n",
    "userService.save(user);"
   ]
  },
  {
   "cell_type": "markdown",
   "id": "1cf3a7fb-fbb9-4ff8-a5ff-ef3db97bde85",
   "metadata": {},
   "source": [
    "Given we want to change from email to notification, what would be the solution?"
   ]
  },
  {
   "cell_type": "code",
   "execution_count": 76,
   "id": "c4c9ce12-e6cd-4d70-abfc-2e916581f303",
   "metadata": {},
   "outputs": [],
   "source": [
    "class NotificationService implements INotify {\n",
    "    send(message: string): void {\n",
    "        console.log(`Notification sent, ${message}`);\n",
    "    }\n",
    "}"
   ]
  },
  {
   "cell_type": "code",
   "execution_count": 77,
   "id": "ef6257c5-676e-489b-922a-f684c6680add",
   "metadata": {},
   "outputs": [
    {
     "name": "stdout",
     "output_type": "stream",
     "text": [
      "User created, name: Aref\n",
      "Notification sent, Congradulations Aref\n"
     ]
    }
   ],
   "source": [
    "// Initialize\n",
    "const notificationService = new NotificationService;\n",
    "const userService = new UserService(notificationService);\n",
    "\n",
    "// Run\n",
    "const user: User = { name: 'Aref' };\n",
    "userService.save(user);"
   ]
  },
  {
   "cell_type": "code",
   "execution_count": 78,
   "id": "9e4ae4d4-771c-4cdb-bf26-6027ba31464c",
   "metadata": {},
   "outputs": [
    {
     "name": "stdout",
     "output_type": "stream",
     "text": [
      "User created, name: Aref\n",
      "Notification sent, Congradulations Aref\n",
      "User created, name: Aref\n",
      "Email sent, Congradulations Aref\n"
     ]
    }
   ],
   "source": [
    "// Initialize\n",
    "const notificationService = new NotificationService;\n",
    "const emailService = new EmailService();\n",
    "\n",
    "const userWithNotificationService = new UserService(notificationService);\n",
    "const userWithEmailService = new UserService(emailService);\n",
    "\n",
    "// Run\n",
    "const user: User = { name: 'Aref' };\n",
    "\n",
    "userWithNotificationService.save(user);\n",
    "userWithEmailService.save(user);"
   ]
  },
  {
   "cell_type": "code",
   "execution_count": null,
   "id": "5d5f5e2c-06d9-478b-ba5b-22ffcfbd39ce",
   "metadata": {},
   "outputs": [],
   "source": []
  }
 ],
 "metadata": {
  "kernelspec": {
   "display_name": "TypeScript",
   "language": "typescript",
   "name": "tslab"
  },
  "language_info": {
   "codemirror_mode": {
    "mode": "typescript",
    "name": "javascript",
    "typescript": true
   },
   "file_extension": ".ts",
   "mimetype": "text/typescript",
   "name": "typescript",
   "version": "3.7.2"
  }
 },
 "nbformat": 4,
 "nbformat_minor": 5
}
